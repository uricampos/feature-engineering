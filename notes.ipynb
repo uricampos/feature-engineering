{
 "cells": [
  {
   "cell_type": "markdown",
   "metadata": {},
   "source": [
    "# What's Feature Engineering"
   ]
  },
  {
   "cell_type": "markdown",
   "metadata": {},
   "source": [
    "### The Goal of Feature Engineering\n",
    "\n",
    "- make the data better suited to the problem at hand"
   ]
  },
  {
   "cell_type": "markdown",
   "metadata": {},
   "source": [
    "### Advantages of performing feature engineering\n",
    "\n",
    "- improve's a model predictive performance\n",
    "- reduce computacional or data needs\n",
    "- improve interpretability of the results"
   ]
  },
  {
   "cell_type": "markdown",
   "metadata": {},
   "source": [
    "### A Guiding Principle of Feature Engineering\n",
    "\n",
    "- feature has to have a relationship with the target - useful\n",
    "- tranformations in the features become in essence a part of the model itself\n",
    "- what information can the model use to achieve its best performance?"
   ]
  }
 ],
 "metadata": {
  "kernelspec": {
   "display_name": "Python 3",
   "language": "python",
   "name": "python3"
  },
  "language_info": {
   "name": "python",
   "version": "3.10.6"
  },
  "orig_nbformat": 4
 },
 "nbformat": 4,
 "nbformat_minor": 2
}
